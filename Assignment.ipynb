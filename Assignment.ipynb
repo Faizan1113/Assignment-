{
 "cells": [
  {
   "cell_type": "code",
   "execution_count": 1,
   "id": "cc8aa499-f177-4f08-8d72-c9f3a52c0573",
   "metadata": {},
   "outputs": [],
   "source": [
    "#For loop is used when number of iteration are known and while loop is used when number of iteration is unknown \n",
    "#For doesn't check the condition and while loop check the condition  "
   ]
  },
  {
   "cell_type": "code",
   "execution_count": 2,
   "id": "ad5da6be-e68c-4e1b-9027-6a1e96a196bf",
   "metadata": {},
   "outputs": [],
   "source": [
    "l = [\"Faiz\"  , \"Aamu\"  ,\"pwskills\",  \"Sudh\" , \"Makvana\"]\n",
    "\n"
   ]
  },
  {
   "cell_type": "code",
   "execution_count": 3,
   "id": "abdbb702-a6ff-479d-90f6-d35870321597",
   "metadata": {},
   "outputs": [
    {
     "data": {
      "text/plain": [
       "['Faiz', 'Aamu', 'pwskills', 'Sudh', 'Makvana']"
      ]
     },
     "execution_count": 3,
     "metadata": {},
     "output_type": "execute_result"
    }
   ],
   "source": [
    "l"
   ]
  },
  {
   "cell_type": "code",
   "execution_count": 4,
   "id": "a1aa7fa0-77a8-45b4-8364-e63812d721b7",
   "metadata": {},
   "outputs": [
    {
     "name": "stdout",
     "output_type": "stream",
     "text": [
      "Faiz\n",
      "Aamu\n",
      "pwskills\n",
      "Sudh\n",
      "Makvana\n"
     ]
    }
   ],
   "source": [
    "a = []\n",
    "for i in l:\n",
    "    print(i)\n"
   ]
  },
  {
   "cell_type": "code",
   "execution_count": 5,
   "id": "5db3849c-9303-4cd8-9ace-98906ddbab6e",
   "metadata": {},
   "outputs": [],
   "source": [
    "##sum using while loop"
   ]
  },
  {
   "cell_type": "code",
   "execution_count": 7,
   "id": "24cd8ce9-325b-4ae9-a6f8-6bdcebb60317",
   "metadata": {},
   "outputs": [
    {
     "name": "stdin",
     "output_type": "stream",
     "text": [
      "enter your limit here 12\n"
     ]
    },
    {
     "data": {
      "text/plain": [
       "78"
      ]
     },
     "execution_count": 7,
     "metadata": {},
     "output_type": "execute_result"
    }
   ],
   "source": [
    "n = int(input(\"enter your limit here\"))\n",
    "starting_point = 0\n",
    "counter = 1\n",
    "\n",
    "while counter <= n :\n",
    "    starting_point = starting_point + counter\n",
    "    counter = counter + 1 \n",
    "starting_point"
   ]
  },
  {
   "cell_type": "code",
   "execution_count": null,
   "id": "c68bac46-3eb9-49f5-a220-cf235ffc61a1",
   "metadata": {},
   "outputs": [],
   "source": [
    "#Question 2"
   ]
  },
  {
   "cell_type": "code",
   "execution_count": 8,
   "id": "7187b087-abdb-406e-a7a6-337ca69cf2d4",
   "metadata": {},
   "outputs": [],
   "source": [
    "l = [1,2,3,4,5,6,7,8,9,10]\n",
    "    "
   ]
  },
  {
   "cell_type": "code",
   "execution_count": 9,
   "id": "5ed5ca5c-bc11-4ff5-a598-3e242b007252",
   "metadata": {},
   "outputs": [
    {
     "data": {
      "text/plain": [
       "55"
      ]
     },
     "execution_count": 9,
     "metadata": {},
     "output_type": "execute_result"
    }
   ],
   "source": [
    "result = 0\n",
    "for i in l :\n",
    "    result = result + i\n",
    "result"
   ]
  },
  {
   "cell_type": "code",
   "execution_count": 12,
   "id": "519b32df-a664-40bf-9c17-b25c28eba970",
   "metadata": {},
   "outputs": [
    {
     "name": "stdin",
     "output_type": "stream",
     "text": [
      "enter your limit here 10\n"
     ]
    },
    {
     "data": {
      "text/plain": [
       "55"
      ]
     },
     "execution_count": 12,
     "metadata": {},
     "output_type": "execute_result"
    }
   ],
   "source": [
    "n = int(input(\"enter your limit here\"))\n",
    "starting_point = 0\n",
    "counter = 1\n",
    "\n",
    "while counter <= n :\n",
    "    starting_point = starting_point + counter\n",
    "    counter = counter + 1 \n",
    "starting_point"
   ]
  },
  {
   "cell_type": "code",
   "execution_count": 1,
   "id": "597296b2-f2a6-492d-ae77-784edf927545",
   "metadata": {},
   "outputs": [],
   "source": [
    "#product\n"
   ]
  },
  {
   "cell_type": "code",
   "execution_count": 2,
   "id": "70d2b891-dd85-46a6-8019-31b132adfd86",
   "metadata": {},
   "outputs": [],
   "source": [
    "numbers = range(1,11)"
   ]
  },
  {
   "cell_type": "code",
   "execution_count": 4,
   "id": "7134d085-751b-4a6f-8180-79593507628e",
   "metadata": {},
   "outputs": [
    {
     "data": {
      "text/plain": [
       "3628800"
      ]
     },
     "execution_count": 4,
     "metadata": {},
     "output_type": "execute_result"
    }
   ],
   "source": [
    "product = 1\n",
    "for i in numbers :\n",
    "    product*=i\n",
    "product"
   ]
  },
  {
   "cell_type": "code",
   "execution_count": 1,
   "id": "c31586f9-596c-45e1-be81-9a5819ca5d7c",
   "metadata": {},
   "outputs": [
    {
     "name": "stdin",
     "output_type": "stream",
     "text": [
      "enter your num 10\n"
     ]
    },
    {
     "data": {
      "text/plain": [
       "362880"
      ]
     },
     "execution_count": 1,
     "metadata": {},
     "output_type": "execute_result"
    }
   ],
   "source": [
    "n  = int(input(\"enter your num\"))\n",
    "counter = 1\n",
    "multiplication = 1\n",
    "\n",
    "while counter < n :\n",
    "    multiplication  = multiplication * counter \n",
    "    counter = counter + 1\n",
    "multiplication"
   ]
  },
  {
   "cell_type": "code",
   "execution_count": 2,
   "id": "b296703b-167a-4972-8d19-6b8b76076dd2",
   "metadata": {},
   "outputs": [],
   "source": [
    "#Question 3"
   ]
  },
  {
   "cell_type": "code",
   "execution_count": 3,
   "id": "c42159c1-95ed-461c-94e3-4219048ecdf0",
   "metadata": {},
   "outputs": [
    {
     "name": "stdin",
     "output_type": "stream",
     "text": [
      "enter num of units 310\n"
     ]
    },
    {
     "data": {
      "text/plain": [
       "2250.0"
      ]
     },
     "execution_count": 3,
     "metadata": {},
     "output_type": "execute_result"
    }
   ],
   "source": [
    "n = int(input(\"enter num of units\"))\n",
    "if n <= 100 :\n",
    "    bill = n*4.5\n",
    "else:\n",
    "    bill = 100*4.5\n",
    "n -=100\n",
    "if n <=100 :\n",
    "    bill += n*6 \n",
    "else :\n",
    "    bill += 100*6\n",
    "n -= 100\n",
    "if n <= 100:\n",
    "     bill += n * 10\n",
    "else:\n",
    "    bill += 100 * 10\n",
    "    n -= 100\n",
    "    bill += n * 20\n",
    "bill\n",
    "\n",
    "\n",
    "\n",
    "\n",
    "    \n",
    "    \n",
    "    "
   ]
  },
  {
   "cell_type": "code",
   "execution_count": null,
   "id": "93940f4b-9d40-4a77-b2a5-9a9866c3bd87",
   "metadata": {},
   "outputs": [],
   "source": [
    "#question 4"
   ]
  },
  {
   "cell_type": "code",
   "execution_count": 4,
   "id": "145e4a2a-4d09-40ec-9168-07544a83534a",
   "metadata": {},
   "outputs": [
    {
     "data": {
      "text/plain": [
       "range(1, 101)"
      ]
     },
     "execution_count": 4,
     "metadata": {},
     "output_type": "execute_result"
    }
   ],
   "source": [
    "range(1,101)"
   ]
  },
  {
   "cell_type": "code",
   "execution_count": 7,
   "id": "17164493-ded7-4a44-9b04-e3e0f27c2873",
   "metadata": {},
   "outputs": [
    {
     "data": {
      "text/plain": [
       "[2,\n",
       " 4,\n",
       " 5,\n",
       " 6,\n",
       " 8,\n",
       " 10,\n",
       " 12,\n",
       " 14,\n",
       " 15,\n",
       " 16,\n",
       " 18,\n",
       " 20,\n",
       " 22,\n",
       " 24,\n",
       " 25,\n",
       " 26,\n",
       " 28,\n",
       " 30,\n",
       " 32,\n",
       " 34,\n",
       " 35,\n",
       " 36,\n",
       " 38,\n",
       " 40,\n",
       " 42,\n",
       " 44,\n",
       " 45,\n",
       " 46,\n",
       " 48,\n",
       " 50,\n",
       " 52,\n",
       " 54,\n",
       " 55,\n",
       " 56,\n",
       " 58,\n",
       " 60,\n",
       " 62,\n",
       " 64,\n",
       " 65,\n",
       " 66,\n",
       " 68,\n",
       " 70,\n",
       " 72,\n",
       " 74,\n",
       " 75,\n",
       " 76,\n",
       " 78,\n",
       " 80,\n",
       " 82,\n",
       " 84,\n",
       " 85,\n",
       " 86,\n",
       " 88,\n",
       " 90,\n",
       " 92,\n",
       " 94,\n",
       " 95,\n",
       " 96,\n",
       " 98,\n",
       " 100]"
      ]
     },
     "execution_count": 7,
     "metadata": {},
     "output_type": "execute_result"
    }
   ],
   "source": [
    "number = list(range(1,101))\n",
    "result = []\n",
    "for num in number :\n",
    "    cube = num ** 3\n",
    "    if cube % 4 == 0 or cube % 5 == 0 :\n",
    "        result.append(num)\n",
    "result\n"
   ]
  },
  {
   "cell_type": "code",
   "execution_count": 2,
   "id": "43265c4f-eade-4de4-8058-f6766680bd2f",
   "metadata": {},
   "outputs": [],
   "source": [
    "#using while loop"
   ]
  },
  {
   "cell_type": "code",
   "execution_count": 2,
   "id": "77f3e353-3c9c-4842-b538-e0bd47356b9f",
   "metadata": {},
   "outputs": [
    {
     "data": {
      "text/plain": [
       "[2,\n",
       " 4,\n",
       " 5,\n",
       " 6,\n",
       " 8,\n",
       " 10,\n",
       " 12,\n",
       " 14,\n",
       " 15,\n",
       " 16,\n",
       " 18,\n",
       " 20,\n",
       " 22,\n",
       " 24,\n",
       " 25,\n",
       " 26,\n",
       " 28,\n",
       " 30,\n",
       " 32,\n",
       " 34,\n",
       " 35,\n",
       " 36,\n",
       " 38,\n",
       " 40,\n",
       " 42,\n",
       " 44,\n",
       " 45,\n",
       " 46,\n",
       " 48,\n",
       " 50,\n",
       " 52,\n",
       " 54,\n",
       " 55,\n",
       " 56,\n",
       " 58,\n",
       " 60,\n",
       " 62,\n",
       " 64,\n",
       " 65,\n",
       " 66,\n",
       " 68,\n",
       " 70,\n",
       " 72,\n",
       " 74,\n",
       " 75,\n",
       " 76,\n",
       " 78,\n",
       " 80,\n",
       " 82,\n",
       " 84,\n",
       " 85,\n",
       " 86,\n",
       " 88,\n",
       " 90,\n",
       " 92,\n",
       " 94,\n",
       " 95,\n",
       " 96,\n",
       " 98,\n",
       " 100]"
      ]
     },
     "execution_count": 2,
     "metadata": {},
     "output_type": "execute_result"
    }
   ],
   "source": [
    "number = list(range(1,101))\n",
    "result = []\n",
    "\n",
    "i = 1\n",
    "while i <= len(number) :\n",
    "    cube = i**3\n",
    "    if cube % 4 == 0 or cube % 5 == 0 :\n",
    "        result.append(i)\n",
    "    i = i + 1\n",
    "result\n",
    "\n"
   ]
  },
  {
   "cell_type": "code",
   "execution_count": null,
   "id": "27e6c2df-a6db-4e87-9262-41c783daed78",
   "metadata": {},
   "outputs": [],
   "source": []
  },
  {
   "cell_type": "code",
   "execution_count": 1,
   "id": "01f026ae-876f-469b-844a-2c4bcbe20535",
   "metadata": {},
   "outputs": [],
   "source": [
    "string = \"I want to become a data scientist\""
   ]
  },
  {
   "cell_type": "code",
   "execution_count": 2,
   "id": "77ddc003-b5b7-45a6-8fb2-d451348cfd08",
   "metadata": {},
   "outputs": [
    {
     "data": {
      "text/plain": [
       "'i want to become a data scientist'"
      ]
     },
     "execution_count": 2,
     "metadata": {},
     "output_type": "execute_result"
    }
   ],
   "source": [
    "string.lower()"
   ]
  },
  {
   "cell_type": "code",
   "execution_count": 7,
   "id": "4ee6ed18-f4d8-4118-9459-20dd93c6de41",
   "metadata": {},
   "outputs": [
    {
     "data": {
      "text/plain": [
       "11"
      ]
     },
     "execution_count": 7,
     "metadata": {},
     "output_type": "execute_result"
    }
   ],
   "source": [
    "vowels = \"aeiou\"\n",
    "count = 0\n",
    "for char in string :\n",
    "    if char in vowels :\n",
    "        count = count + 1\n",
    "count\n",
    "        "
   ]
  },
  {
   "cell_type": "code",
   "execution_count": null,
   "id": "34bdfbdc-73c1-4fe5-992e-b99f60ee0f16",
   "metadata": {},
   "outputs": [],
   "source": []
  }
 ],
 "metadata": {
  "kernelspec": {
   "display_name": "Python 3 (ipykernel)",
   "language": "python",
   "name": "python3"
  },
  "language_info": {
   "codemirror_mode": {
    "name": "ipython",
    "version": 3
   },
   "file_extension": ".py",
   "mimetype": "text/x-python",
   "name": "python",
   "nbconvert_exporter": "python",
   "pygments_lexer": "ipython3",
   "version": "3.10.8"
  }
 },
 "nbformat": 4,
 "nbformat_minor": 5
}
