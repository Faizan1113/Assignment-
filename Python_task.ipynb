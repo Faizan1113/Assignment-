{
 "cells": [
  {
   "cell_type": "code",
   "execution_count": 1,
   "id": "d8fd6fe1-792a-468d-92a4-31a983397397",
   "metadata": {},
   "outputs": [],
   "source": [
    "l = [1,2,3,4, [44,55,66, True], False, (34,56,78,89,34), {1,2,3,3,2,1}, {1:34, \"key2\": [55, 67, 78, 89], 4: (45,\n",
    "22, 61, 34)}, [56, 'data science'], 'Machine Learning']"
   ]
  },
  {
   "cell_type": "code",
   "execution_count": 2,
   "id": "59bebf28-0812-4190-9c72-98e89a095840",
   "metadata": {},
   "outputs": [
    {
     "name": "stdout",
     "output_type": "stream",
     "text": [
      "4134711838987085478833841242112000\n"
     ]
    }
   ],
   "source": [
    "from functools import reduce\n",
    "\n",
    "def product_num (l):\n",
    "    result = []\n",
    "    for i in l :\n",
    "        if type(i) == int :\n",
    "            result.append(i)\n",
    "        elif type(i) == tuple :\n",
    "            for j in i :\n",
    "                if type(j) == int:\n",
    "                    result.append(j)\n",
    "        elif type(i) ==list :\n",
    "            for j in i :\n",
    "                if type(j) == int:\n",
    "                    result.append(j)\n",
    "        elif type(i) == set:\n",
    "            for j in i :\n",
    "                if type(j) == int :\n",
    "                    result.append(j)\n",
    "        elif type(i) == dict:\n",
    "            for keys in i :\n",
    "                if type(keys) == int :\n",
    "                    result.append(keys)\n",
    "            for i in i.values():\n",
    "                if type(i) == int:\n",
    "                    result.append(i)\n",
    "                elif type(i) == list:\n",
    "                    for j in i :\n",
    "                        if type(j) == int:\n",
    "                            result.append(j)\n",
    "                elif type(i) == tuple:\n",
    "                    for j in i:\n",
    "                        if type(j) == int :\n",
    "                            result.append(j)\n",
    "                    \n",
    "                        \n",
    "                    \n",
    "                    \n",
    "                    \n",
    "                        \n",
    "                        \n",
    "                  \n",
    "                \n",
    "            \n",
    "    product = reduce(lambda x,y : x*y , result)\n",
    "    return product\n",
    "\n",
    "product = product_num(l)\n",
    "print(product)\n",
    "                        \n",
    "                \n",
    "    \n",
    "    "
   ]
  },
  {
   "cell_type": "code",
   "execution_count": 22,
   "id": "7a842784-e10e-4fc4-9c19-d80a07ae8def",
   "metadata": {},
   "outputs": [
    {
     "name": "stdin",
     "output_type": "stream",
     "text": [
      "enter yuor message I want to become a a data scientist\n"
     ]
    },
    {
     "name": "stdout",
     "output_type": "stream",
     "text": [
      "Encrypted Message :  grdzmgglyvxlnvzwzgzhxvrmgrhgr$grdzmgglyvxlnvzwzgzhxvrmgrhgrdgrdzmgglyvxlnvzwzgzhxvrmgrhgrdzgrdzmgglyvxlnvzwzgzhxvrmgrhgrdzmgrdzmgglyvxlnvzwzgzhxvrmgrhgrdzmg$grdzmgglyvxlnvzwzgzhxvrmgrhgrdzmgggrdzmgglyvxlnvzwzgzhxvrmgrhgrdzmggl$grdzmgglyvxlnvzwzgzhxvrmgrhgrdzmgglygrdzmgglyvxlnvzwzgzhxvrmgrhgrdzmgglyvgrdzmgglyvxlnvzwzgzhxvrmgrhgrdzmgglyvxgrdzmgglyvxlnvzwzgzhxvrmgrhgrdzmgglyvxlgrdzmgglyvxlnvzwzgzhxvrmgrhgrdzmgglyvxlngrdzmgglyvxlnvzwzgzhxvrmgrhgrdzmgglyvxlnv$grdzmgglyvxlnvzwzgzhxvrmgrhgrdzmgglyvxlnvz$grdzmgglyvxlnvzwzgzhxvrmgrhgrdzmgglyvxlnvzz$grdzmgglyvxlnvzwzgzhxvrmgrhgrdzmgglyvxlnvzzwgrdzmgglyvxlnvzwzgzhxvrmgrhgrdzmgglyvxlnvzzwzgrdzmgglyvxlnvzwzgzhxvrmgrhgrdzmgglyvxlnvzzwzggrdzmgglyvxlnvzwzgzhxvrmgrhgrdzmgglyvxlnvzzwzgz$grdzmgglyvxlnvzwzgzhxvrmgrhgrdzmgglyvxlnvzzwzgzhgrdzmgglyvxlnvzwzgzhxvrmgrhgrdzmgglyvxlnvzzwzgzhxgrdzmgglyvxlnvzwzgzhxvrmgrhgrdzmgglyvxlnvzzwzgzhxrgrdzmgglyvxlnvzwzgzhxvrmgrhgrdzmgglyvxlnvzzwzgzhxrvgrdzmgglyvxlnvzwzgzhxvrmgrhgrdzmgglyvxlnvzzwzgzhxrvmgrdzmgglyvxlnvzwzgzhxvrmgrhgrdzmgglyvxlnvzzwzgzhxrvmggrdzmgglyvxlnvzwzgzhxvrmgrhgrdzmgglyvxlnvzzwzgzhxrvmgrgrdzmgglyvxlnvzwzgzhxvrmgrhgrdzmgglyvxlnvzzwzgzhxrvmgrhgrdzmgglyvxlnvzwzgzhxvrmgrhgrdzmgglyvxlnvzzwzgzhxrvmgrhg\n"
     ]
    }
   ],
   "source": [
    "message = input(\"enter yuor message\")\n",
    "encrypted_msg = \"\"\n",
    "\n",
    "for char in message :\n",
    "    if char.isalpha():\n",
    "        encrypted_char +=chr(ord('a') +(25 -(ord(char.lower()) - ord('a'))))\n",
    "        encrypted_msg += encrypted_char\n",
    "    elif char.isspace() :\n",
    "        encrypted_msg += '$'\n",
    "    else :\n",
    "        encrypted_msg += char \n",
    "    \n",
    "print(\"Encrypted Message : \" , encrypted_msg)\n",
    "        \n",
    "    \n",
    "    \n"
   ]
  },
  {
   "cell_type": "code",
   "execution_count": 4,
   "id": "39db6470-0ba5-487b-8e76-a718ab411b2d",
   "metadata": {},
   "outputs": [
    {
     "data": {
      "text/plain": [
       "str"
      ]
     },
     "execution_count": 4,
     "metadata": {},
     "output_type": "execute_result"
    }
   ],
   "source": []
  },
  {
   "cell_type": "code",
   "execution_count": 17,
   "id": "d68bccbc-fbc2-4c0b-ba0e-250729819c8e",
   "metadata": {},
   "outputs": [
    {
     "name": "stdin",
     "output_type": "stream",
     "text": [
      "Enter the message to encrypt:  I want to become a data scientist \n"
     ]
    },
    {
     "name": "stdout",
     "output_type": "stream",
     "text": [
      "Encrypted message: R$dzmg$gl$yvxlnv$z$wzgz$hxrvmgrhg$\n"
     ]
    }
   ],
   "source": [
    "def encrypt_message(message):\n",
    "    encrypted = \"\"\n",
    "    for char in message:\n",
    "        if char.isalpha():\n",
    "            # Convert alphabets to their respective counterparts\n",
    "            if char.islower():\n",
    "                encrypted += chr(219 - ord(char))  # Convert lowercase letters\n",
    "            else:\n",
    "                encrypted += chr(155 - ord(char))  # Convert uppercase letters\n",
    "        elif char.isspace():\n",
    "            encrypted += '$'  # Replace whitespace with a dollar sign\n",
    "        else:\n",
    "            encrypted += char  # Keep punctuation marks unchanged\n",
    "    return encrypted\n",
    "\n",
    "# Test the encryption\n",
    "message_to_encrypt = input(\"Enter the message to encrypt: \")\n",
    "encrypted_message = encrypt_message(message_to_encrypt)\n",
    "print(\"Encrypted message:\", encrypted_message)\n"
   ]
  },
  {
   "cell_type": "code",
   "execution_count": null,
   "id": "f98e0230-1560-4d2a-aa7d-80ff2a95de3a",
   "metadata": {},
   "outputs": [],
   "source": []
  }
 ],
 "metadata": {
  "kernelspec": {
   "display_name": "Python 3 (ipykernel)",
   "language": "python",
   "name": "python3"
  },
  "language_info": {
   "codemirror_mode": {
    "name": "ipython",
    "version": 3
   },
   "file_extension": ".py",
   "mimetype": "text/x-python",
   "name": "python",
   "nbconvert_exporter": "python",
   "pygments_lexer": "ipython3",
   "version": "3.10.8"
  }
 },
 "nbformat": 4,
 "nbformat_minor": 5
}
