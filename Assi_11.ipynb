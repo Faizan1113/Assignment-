{
 "cells": [
  {
   "cell_type": "markdown",
   "id": "ebb39790-376d-479d-b690-5555518a2753",
   "metadata": {},
   "source": [
    "Question :- 1\n",
    "\n",
    "Exception class as the base class for custom exceptions in Python ensures compatibility with the existing exception handling mechanism, provides consistent behavior and methods, enables customization, and promotes a Pythonic coding style.\n"
   ]
  },
  {
   "cell_type": "markdown",
   "id": "f02f826e-6a76-4bbb-a0c2-ea2f48bc1659",
   "metadata": {},
   "source": [
    "Question :- 2"
   ]
  },
  {
   "cell_type": "code",
   "execution_count": 3,
   "id": "9aa5bf60-742d-4dce-a830-bf6c9ddca6b8",
   "metadata": {},
   "outputs": [],
   "source": [
    "import logging\n",
    "logging.basicConfig(filename = \"ass11.log\" , level = logging.ERROR)"
   ]
  },
  {
   "cell_type": "code",
   "execution_count": 4,
   "id": "1f47b3b7-5a0d-4c26-861e-7174b162cc6e",
   "metadata": {},
   "outputs": [
    {
     "name": "stdout",
     "output_type": "stream",
     "text": [
      "try block executed successfully \n"
     ]
    }
   ],
   "source": [
    "try :\n",
    "    l = [1,2,3,4,5 ]\n",
    "    l1_str = []\n",
    "    for i in l :\n",
    "        logging.error(\"i mam in  for loop to chekck i {}\".format(i))\n",
    "        if type(i) == str() :\n",
    "            l1_str.append(i)\n",
    "            logging.error(\"i am in if statement to check the type og i{}\".format(i))\n",
    "            \n",
    "            \n",
    "            \n",
    "except Exception as e :\n",
    "    logging.info(\"i am in except block to handle the error if it will be raised\")\n",
    "    print(e)\n",
    "    \n",
    "else : \n",
    "    logging.info(\"this is else block to print {}\".format(print))\n",
    "    print(\"try block executed successfully \")\n",
    "    \n",
    "finally :\n",
    "    logging.info(\"this is finally block to check the type of i {}\" .format(i))\n",
    "    if type(i) != str :\n",
    "        logging.info(\"i am in anothe if statement to chekc the type of i\")\n",
    "        l1_str.append(i)\n",
    "        logging.info(\"this is my final result {}\".format(l1_str))\n",
    "        "
   ]
  },
  {
   "cell_type": "markdown",
   "id": "f557d7f8-f001-4c34-a53b-94e513246389",
   "metadata": {},
   "source": [
    "Question :- 3\n",
    "\n",
    "The ArithmeticError class is a base class for exceptions related to arithmetic operations in Python.Zero division Error , floatingpointerror , Overflowerror etc. are such arithmetic related exceptions , these are included in Arithmeticerror "
   ]
  },
  {
   "cell_type": "code",
   "execution_count": 5,
   "id": "e656ccca-bd0d-48c8-8120-6ba1b6da2db5",
   "metadata": {},
   "outputs": [
    {
     "name": "stdout",
     "output_type": "stream",
     "text": [
      "division by zero\n"
     ]
    }
   ],
   "source": [
    "try:\n",
    "    1/0\n",
    "except ZeroDivisionError as e :\n",
    "    print(e)"
   ]
  },
  {
   "cell_type": "code",
   "execution_count": 6,
   "id": "37551780-1a3a-4cac-9683-941f7081ad9e",
   "metadata": {},
   "outputs": [],
   "source": [
    "import sys\n",
    "\n",
    "a = sys.maxsize\n",
    "b = a + 1\n",
    "\n",
    "try:\n",
    "    result = a * b\n",
    "\n",
    "except OverflowError as e:\n",
    "    print(e)\n",
    "\n"
   ]
  },
  {
   "cell_type": "markdown",
   "id": "9c52bc15-f3ed-440a-ad55-b7ef917e97ce",
   "metadata": {},
   "source": [
    "Question :- 4 \n",
    "\n",
    "\n",
    "The LookupError class in Python is a base class for exceptions that occur when an index or key used to access an element in a collection is invalid or not found. It serves as the superclass for specific lookup-related exception classes. \n",
    "\n",
    "Key Error : This exception is raised when a dictionary key is not found\n",
    "\n",
    "Index error : This exception is raised when enter index for the value doesn't exist"
   ]
  },
  {
   "cell_type": "code",
   "execution_count": 9,
   "id": "2e7cfe5e-7995-49c0-bbec-7e99a8c4070d",
   "metadata": {},
   "outputs": [],
   "source": [
    "import logging\n",
    "logging.basicConfig(filename = \"ass11.log\" , level = logging.ERROR)"
   ]
  },
  {
   "cell_type": "code",
   "execution_count": null,
   "id": "23fc1af6-b699-4ba2-afbb-aa469ace4d10",
   "metadata": {},
   "outputs": [],
   "source": [
    "# Key error :\n",
    "\n",
    "l = {'name': \"pwskills\" ,\"courses\" : [\"Data_scie_masters\" , \"web_dev\"], \"time\" : \"7.30 pm to 10.30 pm\"}\n",
    "\n",
    "try :\n",
    "    logging.error(\"i am in try block to found key form l {}\".format(l))\n",
    "    l[\"mode\"]\n",
    "except KeyError as e :\n",
    "    logging.error(\"i am inexcept block to handle exceptions if raised\")\n",
    "    print(\"KeyError : \" , e)"
   ]
  },
  {
   "cell_type": "code",
   "execution_count": 13,
   "id": "143a3eee-6dac-4953-85e5-f7df4a455bbb",
   "metadata": {},
   "outputs": [
    {
     "name": "stdout",
     "output_type": "stream",
     "text": [
      "list index out of range\n"
     ]
    }
   ],
   "source": [
    "## Index Error\n",
    "l =[1,2,3,4]\n",
    "\n",
    "try :\n",
    "    logging.error(\"we are finding value at 8th index from l \")\n",
    "    l[8]\n",
    "\n",
    "except IndexError as e  :\n",
    "    logging.error(\"this is except block for printing error\")\n",
    "    print(e)\n",
    "    "
   ]
  },
  {
   "cell_type": "markdown",
   "id": "59fde76c-1115-47ba-be08-958f5c994180",
   "metadata": {},
   "source": [
    "Question :- 5\n",
    "\n",
    "Import error raised when we import some files or functoin or modules that doesn't exsist in python library\n",
    "\n",
    "\n",
    "The \"ModuleNotFoundError\" is a Python exception that occurs when the interpreter is unable to locate and import a module that we are trying to use in our code. "
   ]
  },
  {
   "cell_type": "code",
   "execution_count": 15,
   "id": "ff22fdad-def7-4138-8349-3d7041a909c0",
   "metadata": {},
   "outputs": [
    {
     "name": "stdout",
     "output_type": "stream",
     "text": [
      "No module named 'pwskills'\n"
     ]
    }
   ],
   "source": [
    "try :\n",
    "    import pwskills\n",
    "except ImportError as e :\n",
    "    print(e)\n",
    "    "
   ]
  },
  {
   "cell_type": "code",
   "execution_count": 16,
   "id": "54eace5c-22b3-4ca8-a5e1-98d71e96a9a3",
   "metadata": {},
   "outputs": [
    {
     "name": "stdout",
     "output_type": "stream",
     "text": [
      "No module named 'Faiz_module'\n"
     ]
    }
   ],
   "source": [
    "try :\n",
    "    import Faiz_module\n",
    "    \n",
    "except ModuleNotFoundError as e :\n",
    "    print(e)"
   ]
  },
  {
   "cell_type": "markdown",
   "id": "748076c6-8a1c-49f0-8cf5-457a4f320dbd",
   "metadata": {},
   "source": [
    "Question :- 6\n",
    "\n",
    "1.We should always use specific exception instead of using except only while writing a code.\n",
    "2.We shall never used multiple except at a time and specifically when we are using both custom exception and Exception as superclass in one code then Exception should be at the end of the code as if we write Exception first then it will handle the error and custom exception will became "
   ]
  }
 ],
 "metadata": {
  "kernelspec": {
   "display_name": "Python 3 (ipykernel)",
   "language": "python",
   "name": "python3"
  },
  "language_info": {
   "codemirror_mode": {
    "name": "ipython",
    "version": 3
   },
   "file_extension": ".py",
   "mimetype": "text/x-python",
   "name": "python",
   "nbconvert_exporter": "python",
   "pygments_lexer": "ipython3",
   "version": "3.10.8"
  }
 },
 "nbformat": 4,
 "nbformat_minor": 5
}
