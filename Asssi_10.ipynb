{
 "cells": [
  {
   "cell_type": "code",
   "execution_count": 1,
   "id": "a8a4a451-fcd3-447f-bfbc-294707a90ac8",
   "metadata": {},
   "outputs": [],
   "source": [
    "import logging"
   ]
  },
  {
   "cell_type": "markdown",
   "id": "13924e26-018b-4983-b7de-62d887ad5660",
   "metadata": {},
   "source": [
    "Question :- 1\n",
    "\n",
    "Exception :- Exception is function that helps the code to execute continuously even if there is error in                some code , exeception keeps continue the execution of next code \n",
    "\n",
    "\n",
    "Differnce :- The main difference between syntax error and exception is that syntax error prevent the code                from being executed at all while exception handle the errors and make execution continuous...\n"
   ]
  },
  {
   "cell_type": "markdown",
   "id": "87ef9c47-6451-4112-ae4b-e4a87da5226c",
   "metadata": {},
   "source": [
    "Question :- 2\n",
    "\n",
    "Suppose we are taking int as input from the user and we will display the info after dividing the int by 10 ,but if user enters non-numerical value then error will occur if we had wrote the code without using try-except block "
   ]
  },
  {
   "cell_type": "code",
   "execution_count": 3,
   "id": "84772751-6328-4feb-9088-1c16a69025a1",
   "metadata": {},
   "outputs": [
    {
     "name": "stdin",
     "output_type": "stream",
     "text": [
      "enter your num --\n"
     ]
    },
    {
     "ename": "ValueError",
     "evalue": "invalid literal for int() with base 10: '--'",
     "output_type": "error",
     "traceback": [
      "\u001b[0;31m---------------------------------------------------------------------------\u001b[0m",
      "\u001b[0;31mValueError\u001b[0m                                Traceback (most recent call last)",
      "Cell \u001b[0;32mIn[3], line 1\u001b[0m\n\u001b[0;32m----> 1\u001b[0m number \u001b[38;5;241m=\u001b[39m \u001b[38;5;28;43mint\u001b[39;49m\u001b[43m(\u001b[49m\u001b[38;5;28;43minput\u001b[39;49m\u001b[43m(\u001b[49m\u001b[38;5;124;43m\"\u001b[39;49m\u001b[38;5;124;43menter your num\u001b[39;49m\u001b[38;5;124;43m\"\u001b[39;49m\u001b[43m)\u001b[49m\u001b[43m)\u001b[49m\n\u001b[1;32m      2\u001b[0m a \u001b[38;5;241m=\u001b[39m number\u001b[38;5;241m/\u001b[39m\u001b[38;5;241m10\u001b[39m\n\u001b[1;32m      3\u001b[0m a \n",
      "\u001b[0;31mValueError\u001b[0m: invalid literal for int() with base 10: '--'"
     ]
    }
   ],
   "source": [
    "number = int(input(\"enter your num\"))\n",
    "a = number/10\n",
    "a "
   ]
  },
  {
   "cell_type": "markdown",
   "id": "c3a73bc6-c894-43d6-a624-9b3ddc8ba09b",
   "metadata": {},
   "source": [
    "Here user entered non-numerical value so exception will not be handled as we didn't use try-exception block , now if we use try_exception block then exception willhandle the error and will display the information like this :"
   ]
  },
  {
   "cell_type": "code",
   "execution_count": 11,
   "id": "c70275bb-326a-4ebf-92a0-85b6d0f03bcc",
   "metadata": {},
   "outputs": [],
   "source": [
    "logging.basicConfig(filename = \"assi_10.log\" , level = logging.INFO , format = ' %(asctime)s %(name)s %(levelname)s %(message)s ')"
   ]
  },
  {
   "cell_type": "code",
   "execution_count": 12,
   "id": "1209ee4a-2cde-45d4-a58e-86479d76d9cd",
   "metadata": {},
   "outputs": [
    {
     "name": "stdin",
     "output_type": "stream",
     "text": [
      "enter your number \n"
     ]
    },
    {
     "name": "stdout",
     "output_type": "stream",
     "text": [
      "invalid number\n"
     ]
    }
   ],
   "source": [
    "try :\n",
    "    number = int(input(\"enter your number\"))\n",
    "    logging.info(\"number given by user + str(number)\" )\n",
    "    result = number/10\n",
    "    print(\"number is valid\")\n",
    "                 \n",
    "except Exception :\n",
    "    logging.info(\"it will execute if try will not execute\")\n",
    "    print(\"invalid number\")\n",
    "                \n",
    "                 "
   ]
  },
  {
   "cell_type": "markdown",
   "id": "57f6eb3a-6701-44f0-ab67-1c978a49efa6",
   "metadata": {},
   "source": [
    "Question :- 3\n",
    "\n",
    "try , except ,else ,  finally  statements are used to catch and handle exception "
   ]
  },
  {
   "cell_type": "code",
   "execution_count": 1,
   "id": "b1356ab3-bbad-4610-a064-dc652d8e4448",
   "metadata": {},
   "outputs": [],
   "source": [
    "import logging"
   ]
  },
  {
   "cell_type": "code",
   "execution_count": 2,
   "id": "f598f080-965e-43c7-996f-4dde0257d913",
   "metadata": {},
   "outputs": [],
   "source": [
    "logging.basicConfig(filename= 'test10.log' , level = logging.INFO , format = \"%(asctime)s %(levelname)s %(name)s %(message)s\")"
   ]
  },
  {
   "cell_type": "code",
   "execution_count": 3,
   "id": "faaf409c-9949-4072-9dab-7da336864aac",
   "metadata": {},
   "outputs": [
    {
     "name": "stdout",
     "output_type": "stream",
     "text": [
      "this is my except block [Errno 2] No such file or directory: 'test.txt'\n"
     ]
    }
   ],
   "source": [
    "try :\n",
    "    logging.info(\"this is exceptional funtion that removes error and make execution continuous for that purpose we use try function and except \")\n",
    "    f = open(\"test.txt\" ,'r')\n",
    "    logging.info(\"here we open a file in a reading mode that doesn't exist\")\n",
    "    \n",
    "except Exception as e :\n",
    "    logging.info(\"here if the code in try block will not execute itself then Exception will be print\")\n",
    "    print(\"this is my except block\" , e)\n",
    "else :\n",
    "    logging.info(\"if try will execute itself properly and there is no error in the code of try block then else will be executed \")\n",
    "    print(\"this will be executed once your try will execute\")\n",
    "    "
   ]
  },
  {
   "cell_type": "code",
   "execution_count": 4,
   "id": "cbba0284-6e33-4734-b1cf-54b23c4cd92d",
   "metadata": {},
   "outputs": [],
   "source": [
    "import logging"
   ]
  },
  {
   "cell_type": "markdown",
   "id": "3125715c-d0af-4cf2-94a5-4d1b80fba1a7",
   "metadata": {},
   "source": [
    "Question :- 4\n",
    "\n",
    "try and else :\n",
    "\n",
    "try and else statements are used to handle the exception "
   ]
  },
  {
   "cell_type": "code",
   "execution_count": 5,
   "id": "a3a8e89c-cf03-45d5-866a-a2f860259ac8",
   "metadata": {},
   "outputs": [
    {
     "name": "stdout",
     "output_type": "stream",
     "text": [
      "this will execute if try will not execute \n"
     ]
    }
   ],
   "source": [
    "try :\n",
    "    f =open(\"exce.txt\" , 'w')\n",
    "    f.write(\"this is my msg\")\n",
    "    logging.info(\"we open the file for testing try and else block\")\n",
    "\n",
    "except Exception as e :\n",
    "    logging.info(\"if try block is unable to execute then except will be executed\")\n",
    "    print(\"this is my except block\")\n",
    "    \n",
    "else :\n",
    "    logging.info(\"this is else block and it will execute after try block wikll execute itself completely\")\n",
    "    print(\"this will execute if try will not execute \")\n",
    "    \n",
    "    \n",
    "    "
   ]
  },
  {
   "cell_type": "code",
   "execution_count": 6,
   "id": "4a7898e4-3c73-445f-a7d9-167c55dafb36",
   "metadata": {},
   "outputs": [
    {
     "name": "stdout",
     "output_type": "stream",
     "text": [
      "finally will print in any situation\n"
     ]
    }
   ],
   "source": [
    "try :\n",
    "    logging.info(\"i am in try block to chceck whether the code is executing or not \")\n",
    "    f = open(\"exce.txt\" , 'w')\n",
    "    f.write(\"this is my msg\")\n",
    "    \n",
    "    \n",
    "\n",
    "finally :\n",
    "    logging.info(\"i am in finally block that wil be executed in any situation\")\n",
    "    print(\"finally will print in any situation\")\n"
   ]
  },
  {
   "cell_type": "markdown",
   "id": "05defc08-d3d3-4874-bac1-68b3a1c706d7",
   "metadata": {},
   "source": [
    "RAISE :-  Raise is used when we create custom exception. With help of custom exception we can make our own           arguments and handle the exceptions.In custom exception \"Raise \" statement is used"
   ]
  },
  {
   "cell_type": "code",
   "execution_count": 9,
   "id": "58bd0892-c4ca-4b28-a7e4-39295d850ea4",
   "metadata": {},
   "outputs": [
    {
     "name": "stdin",
     "output_type": "stream",
     "text": [
      "enter your number 45\n"
     ]
    },
    {
     "name": "stdout",
     "output_type": "stream",
     "text": [
      "number is valid\n"
     ]
    }
   ],
   "source": [
    "class number(Exception) :\n",
    "    logging.info(\"i am in class of number \")\n",
    "    \n",
    "    def __int__(self, num):\n",
    "        logging.info(\"i am in a init function to give output as num \")\n",
    "        self.num = num\n",
    "        \n",
    "def num_ber(n) :\n",
    "    if n > 100 :\n",
    "        logging.info(\"i am in if statement to check the n\" , + str(n))\n",
    "        raise number(\"invalid number\")\n",
    "    elif n < 0 :\n",
    "        logging.info(\"i am in elfi statement to check n < 0\" + str(n))\n",
    "        raise number(\"number is very low\")\n",
    "    else :\n",
    "        logging.info(\"i am in else statement to print else \")\n",
    "        print(\"number is valid\")\n",
    "\n",
    "try :\n",
    "    logging.info(\"i am here to take input as from the user\")\n",
    "    n = int(input(\"enter your number\"))\n",
    "    num_ber(n)\n",
    "    \n",
    "except number as e :\n",
    "    print(e)"
   ]
  },
  {
   "cell_type": "markdown",
   "id": "6ddc4def-03d4-4d10-b50c-27402e3deb23",
   "metadata": {},
   "source": [
    "Question :- 5\n",
    "\n",
    "Custom Exception are the condition that was given by user in a class inherited from exception. By using custom exeception we can give our own conditions to function to get executed .Custom execption will add information about ptoject related problems."
   ]
  },
  {
   "cell_type": "code",
   "execution_count": 10,
   "id": "dd6bab86-b9c8-481e-bb63-43b1c20bd8b1",
   "metadata": {},
   "outputs": [],
   "source": [
    "class insuff_bal(Exception) :\n",
    "    logging.info(\"i am in insuff_bal classs that was inherited from Exception\")\n",
    "    pass\n",
    "class bank_accout :\n",
    "    logging.info('this is bank account class')\n",
    "    \n",
    "    def __init__(self, amount) :\n",
    "        logging.info(\"this init function to give amount as output\")\n",
    "        self.amount = amount\n",
    "        \n",
    "    def withdraw(self ,amount) :\n",
    "        if amount > self.amount :\n",
    "            logging.info(\"i am in if statement to chekc the amount\")\n",
    "            raise insuff_bal(\"entered amount is grater than your account balance\")\n",
    "        self.amount -= amount\n",
    "        \n",
    "\n",
    "    "
   ]
  },
  {
   "cell_type": "code",
   "execution_count": 11,
   "id": "f0ddaaa0-e19d-412c-a6c9-1b04b78e0a49",
   "metadata": {},
   "outputs": [],
   "source": [
    "account = bank_accout(200)"
   ]
  },
  {
   "cell_type": "code",
   "execution_count": 12,
   "id": "9d044b9d-7884-4091-88ec-2327cf1848be",
   "metadata": {},
   "outputs": [
    {
     "name": "stdout",
     "output_type": "stream",
     "text": [
      "Transaction completed successfully , kindly collect your money \n"
     ]
    }
   ],
   "source": [
    "try :\n",
    "    logging.debug(\"i am in try block to handle the exceptions if raised\")\n",
    "    account.withdraw(100)\n",
    "    \n",
    "except insuff_bal as e :\n",
    "    print(e)\n",
    "    \n",
    "else :\n",
    "    logging.info(\" this is else statement \")\n",
    "    print(\"Transaction completed successfully , kindly collect your money \")"
   ]
  },
  {
   "cell_type": "code",
   "execution_count": null,
   "id": "f2e952c2-de40-43f2-98c5-4a9b764a1ed8",
   "metadata": {},
   "outputs": [],
   "source": []
  }
 ],
 "metadata": {
  "kernelspec": {
   "display_name": "Python 3 (ipykernel)",
   "language": "python",
   "name": "python3"
  },
  "language_info": {
   "codemirror_mode": {
    "name": "ipython",
    "version": 3
   },
   "file_extension": ".py",
   "mimetype": "text/x-python",
   "name": "python",
   "nbconvert_exporter": "python",
   "pygments_lexer": "ipython3",
   "version": "3.10.8"
  }
 },
 "nbformat": 4,
 "nbformat_minor": 5
}
